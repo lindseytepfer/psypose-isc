{
 "cells": [
  {
   "cell_type": "code",
   "execution_count": null,
   "metadata": {},
   "outputs": [],
   "source": [
    "import os\n",
    "import glob\n",
    "import psutil\n",
    "import numpy as np\n",
    "import pandas as pd\n",
    "import matplotlib.pyplot as plt\n",
    "\n",
    "#brain packages\n",
    "import nltools\n",
    "from nltools import Brain_Data\n",
    "import nibabel as nb\n",
    "import nilearn\n",
    "from nilearn import plotting\n",
    "from nilearn.image import resample_to_img, math_img\n",
    "from nilearn.mass_univariate import permuted_ols\n",
    "from nilearn.glm.second_level import non_parametric_inference"
   ]
  },
  {
   "cell_type": "code",
   "execution_count": null,
   "metadata": {},
   "outputs": [],
   "source": [
    "isc_outs = '/dartfs/rc/lab/S/Scraplab/psypose_fmri/isc_analysis/'\n",
    "\n",
    "tasknames = ['pulpfiction','500daysofsummer','backtothefuture','citizenfour',\n",
    "           'littlemisssunshine', '12yearsaslave','split','theprestige',\n",
    "           'theshawshankredemption','theusualsuspects']\n",
    "\n",
    "betalist = []\n",
    "for task in tasknames:\n",
    "    betalist.append(isc_outs+task+os.sep+task+\"_betamap.nii.gz\")\n",
    "\n",
    "hypotheses = [\"zero_vs_one\",\"one_vs_two\",\"two_vs_three\",\"three_vs_four+\",\n",
    "              \"one_vs_four+\",\"scd\",\"speech\",\"overlap\",\"arousal\",\"valence\"]\n",
    "a,b = 0,1"
   ]
  },
  {
   "cell_type": "markdown",
   "metadata": {},
   "source": [
    "# Running participant-wise permutations for each hypothesis\n",
    "\n",
    "Each participant has an image object containing beta images corresponding to the various regressors we modeled their functional timeseres data with. Here, we load in that image object, select the specific beta images we want to conduct a one-sample t-test on (or, select two beta images if we're looking to run a one-sample t-test on a contrasted beta map), and submit a list of these images for all 10 movies to our permutation analysis."
   ]
  },
  {
   "cell_type": "code",
   "execution_count": null,
   "metadata": {},
   "outputs": [],
   "source": [
    "for i,test in enumerate(hypotheses):\n",
    "    if i == slurm_input: #allows for parallelization\n",
    "        inputs = []\n",
    "        if i <= 4:\n",
    "            if i==0:\n",
    "                a,b=0,1\n",
    "            if i == 1:\n",
    "                a,b, = 1,2\n",
    "            if i == 2:\n",
    "                a,b = 2,3\n",
    "            if i == 3:\n",
    "                a,b = 3,4\n",
    "            if i == 4:\n",
    "                a,b,=1,4\n",
    "            \n",
    "            for image in betalist:\n",
    "                data = nb.load(image)\n",
    "                inputs.append(math_img(\"img1 - img2\", img1=data.slicer[:,:,:,a], img2=data.slicer[:,:,:,b]))\n",
    "            \n",
    "            dm = pd.DataFrame([1] * len(inputs),columns=['intercept'])\n",
    "            \n",
    "            out_dict = nilearn.glm.second_level.non_parametric_inference(inputs, confounds=None, design_matrix=dm,\n",
    "                                                      second_level_contrast=None, first_level_contrast=None, mask=None,\n",
    "                                                      smoothing_fwhm=None, model_intercept=True, n_perm=5000,\n",
    "                                                      two_sided_test=True, random_state=None, n_jobs=1, verbose=1,\n",
    "                                                      threshold=None, tfce=True)\n",
    "            for item in out_dict:\n",
    "                key = out_dict[item]\n",
    "                nb.save(key,isc_outs+\"permutation_outs/\"+item+\"_\"+test+\"_.nii.gz\")\n",
    "            \n",
    "        else:\n",
    "            for image in betalist:\n",
    "                data = nb.load(image)\n",
    "                inputs.append(data.slicer[:,:,:,i])\n",
    "            \n",
    "            dm = pd.DataFrame([1] * len(inputs),columns=['intercept'])\n",
    "            \n",
    "            out_dict = nilearn.glm.second_level.non_parametric_inference(inputs, confounds=None, design_matrix=dm,\n",
    "                                                      second_level_contrast=None, first_level_contrast=None, mask=None,\n",
    "                                                      smoothing_fwhm=None, model_intercept=True, n_perm=5000,\n",
    "                                                      two_sided_test=True, random_state=None, n_jobs=1, verbose=1,\n",
    "                                                      threshold=None, tfce=True)\n",
    "            for item in out_dict:\n",
    "                key = out_dict[item]\n",
    "                nb.save(key,isc_outs+\"permutation_outs/\"+item+\"_\"+test+\"_.nii.gz\")\n",
    "    else:\n",
    "        continue"
   ]
  }
 ],
 "metadata": {
  "language_info": {
   "name": "python"
  },
  "orig_nbformat": 4
 },
 "nbformat": 4,
 "nbformat_minor": 2
}
